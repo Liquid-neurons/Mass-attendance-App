{
  "cells": [
    {
      "cell_type": "markdown",
      "metadata": {
        "id": "U-tnUT5DVPGN"
      },
      "source": [
        "# **SUBSCRIBE to the [channel](https://www.youtube.com/user/19daredevill?sub_confirmation=1) to learn cool things**"
      ]
    },
    {
      "cell_type": "markdown",
      "metadata": {
        "id": "tKoo2OPsVT-9"
      },
      "source": [
        "![Subscribe](https://media3.giphy.com/media/XGILFirobxDWglaUyj/giphy.gif?cid=ecf05e474afdd7ef5fe2c0fa50f87822d705fbb2613a3b5c&rid=giphy.gif)"
      ]
    },
    {
      "cell_type": "code",
      "execution_count": null,
      "metadata": {
        "colab": {
          "base_uri": "https://localhost:8080/"
        },
        "id": "cgOKBYOHVG2D",
        "outputId": "60fa70ff-1948-45d7-982a-dbf004200690"
      },
      "outputs": [
        {
          "output_type": "stream",
          "name": "stdout",
          "text": [
            "Cloning into 'face_recognition'...\n",
            "remote: Enumerating objects: 26, done.\u001b[K\n",
            "remote: Counting objects: 100% (26/26), done.\u001b[K\n",
            "remote: Compressing objects: 100% (21/21), done.\u001b[K\n",
            "remote: Total 26 (delta 5), reused 23 (delta 3), pack-reused 0\u001b[K\n",
            "Receiving objects: 100% (26/26), 3.03 MiB | 7.43 MiB/s, done.\n",
            "Resolving deltas: 100% (5/5), done.\n",
            "/content/face_recognition\n"
          ]
        }
      ],
      "source": [
        "!git clone https://github.com/misbah4064/face_recognition.git\n",
        "%cd face_recognition"
      ]
    },
    {
      "cell_type": "code",
      "execution_count": null,
      "metadata": {
        "colab": {
          "base_uri": "https://localhost:8080/"
        },
        "id": "pshDkWdyVYvy",
        "outputId": "aec34b59-9478-4917-8e3c-59527d809fb6"
      },
      "outputs": [
        {
          "output_type": "stream",
          "name": "stdout",
          "text": [
            "Collecting face_recognition\n",
            "  Downloading face_recognition-1.3.0-py2.py3-none-any.whl (15 kB)\n",
            "Collecting face-recognition-models>=0.3.0 (from face_recognition)\n",
            "  Downloading face_recognition_models-0.3.0.tar.gz (100.1 MB)\n",
            "\u001b[2K     \u001b[90m━━━━━━━━━━━━━━━━━━━━━━━━━━━━━━━━━━━━━━━━\u001b[0m \u001b[32m100.1/100.1 MB\u001b[0m \u001b[31m9.5 MB/s\u001b[0m eta \u001b[36m0:00:00\u001b[0m\n",
            "\u001b[?25h  Preparing metadata (setup.py) ... \u001b[?25l\u001b[?25hdone\n",
            "Requirement already satisfied: Click>=6.0 in /usr/local/lib/python3.10/dist-packages (from face_recognition) (8.1.7)\n",
            "Requirement already satisfied: dlib>=19.7 in /usr/local/lib/python3.10/dist-packages (from face_recognition) (19.24.2)\n",
            "Requirement already satisfied: numpy in /usr/local/lib/python3.10/dist-packages (from face_recognition) (1.23.5)\n",
            "Requirement already satisfied: Pillow in /usr/local/lib/python3.10/dist-packages (from face_recognition) (9.4.0)\n",
            "Building wheels for collected packages: face-recognition-models\n",
            "  Building wheel for face-recognition-models (setup.py) ... \u001b[?25l\u001b[?25hdone\n",
            "  Created wheel for face-recognition-models: filename=face_recognition_models-0.3.0-py2.py3-none-any.whl size=100566170 sha256=e62c2b493ca1d733d0322cb9545ccecbedee4feb7039dfdc0f17da71ea3830f2\n",
            "  Stored in directory: /root/.cache/pip/wheels/7a/eb/cf/e9eced74122b679557f597bb7c8e4c739cfcac526db1fd523d\n",
            "Successfully built face-recognition-models\n",
            "Installing collected packages: face-recognition-models, face_recognition\n",
            "Successfully installed face-recognition-models-0.3.0 face_recognition-1.3.0\n"
          ]
        }
      ],
      "source": [
        "!pip install face_recognition"
      ]
    },
    {
      "cell_type": "markdown",
      "metadata": {
        "id": "rF-BTaHyborv"
      },
      "source": [
        "# **Training Images**"
      ]
    },
    {
      "cell_type": "code",
      "execution_count": null,
      "metadata": {
        "id": "CoF_E8pnJEHI"
      },
      "outputs": [],
      "source": [
        "import face_recognition\n",
        "import numpy as np\n",
        "from PIL import Image, ImageDraw\n",
        "from IPython.display import display\n",
        "from google.colab.patches import cv2_imshow\n",
        "import cv2\n",
        "from datetime import datetime\n"
      ]
    },
    {
      "cell_type": "code",
      "execution_count": null,
      "metadata": {
        "colab": {
          "base_uri": "https://localhost:8080/"
        },
        "id": "CjXPiwpeVba3",
        "outputId": "4e83c379-89ca-4e8f-d482-f856efc46608"
      },
      "outputs": [
        {
          "name": "stdout",
          "output_type": "stream",
          "text": [
            "Done learning and creating profiles\n"
          ]
        }
      ],
      "source": [
        "def initialize_face_recognition():\n",
        "    face_1 = face_recognition.load_image_file(\"elon.jpg\")\n",
        "    face_1_encoding = face_recognition.face_encodings(face_1)[0]\n",
        "\n",
        "    face_2 = face_recognition.load_image_file(\"Donald Trump.jpg\")\n",
        "    face_2_encoding = face_recognition.face_encodings(face_2)[0]\n",
        "\n",
        "    face_3 = face_recognition.load_image_file(\"jeffbezos.jpg\")\n",
        "    face_3_encoding = face_recognition.face_encodings(face_3)[0]\n",
        "\n",
        "    face_4 = face_recognition.load_image_file(\"siddu.jpg\")\n",
        "    face_4_encoding = face_recognition.face_encodings(face_4)[0]\n",
        "\n",
        "    known_face_encodings = [\n",
        "        face_1_encoding,\n",
        "        face_2_encoding,\n",
        "        face_3_encoding,\n",
        "        face_4_encoding\n",
        "    ]\n",
        "    known_face_names = [\n",
        "        \"Elon Musk\",\n",
        "        \"Donald Trump\",\n",
        "        \"Jeff Bezos\",\n",
        "        \"Siddhanth Sridhar\"\n",
        "    ]\n",
        "    print(\"Done learning and creating profiles\")\n",
        "    return known_face_encodings, known_face_names"
      ]
    },
    {
      "cell_type": "markdown",
      "metadata": {
        "id": "1H9QzThobuSw"
      },
      "source": [
        "# **Initializing function to add names to the \"attendance_list.csv\" file**"
      ]
    },
    {
      "cell_type": "code",
      "execution_count": null,
      "metadata": {
        "id": "GVEbG_BiZC-8"
      },
      "outputs": [],
      "source": [
        "def makeAttendanceEntry(name):\n",
        "    with open('attendance_list.csv','r+') as f:\n",
        "        allLines = f.readlines()\n",
        "        attendanceList = []\n",
        "        for line in allLines:\n",
        "            entry = line.split(',')\n",
        "            attendanceList.append(entry[0])\n",
        "        if name not in attendanceList:\n",
        "            now = datetime.now()\n",
        "            dtString = now.strftime('%d/%b/%Y, %H:%M:%S')\n",
        "            f.writelines(f'\\n{name},{dtString}')"
      ]
    },
    {
      "cell_type": "markdown",
      "metadata": {
        "id": "FvNxvs5zb42r"
      },
      "source": [
        "# **Performing Face Recognition and Entering Attendance with time-stamp**"
      ]
    },
    {
      "cell_type": "code",
      "execution_count": null,
      "metadata": {
        "id": "W4VTNtaUVfwm"
      },
      "outputs": [],
      "source": [
        "def recognize_faces(file_name):\n",
        "    known_face_encodings, known_face_names = initialize_face_recognition()\n",
        "\n",
        "    unknown_image = face_recognition.load_image_file(file_name)\n",
        "    unknown_image_to_draw = cv2.imread(file_name)\n",
        "\n",
        "    face_locations = face_recognition.face_locations(unknown_image)\n",
        "    face_encodings = face_recognition.face_encodings(unknown_image, face_locations)\n",
        "\n",
        "    pil_image = Image.fromarray(unknown_image)\n",
        "    draw = ImageDraw.Draw(pil_image)\n",
        "\n",
        "    for (top, right, bottom, left), face_encoding in zip(face_locations, face_encodings):\n",
        "        # See if the face is a match for the known face(s)\n",
        "        matches = face_recognition.compare_faces(known_face_encodings, face_encoding)\n",
        "\n",
        "        name = \"Unknown\"\n",
        "\n",
        "        face_distances = face_recognition.face_distance(known_face_encodings, face_encoding)\n",
        "        best_match_index = np.argmin(face_distances)\n",
        "        if matches[best_match_index]:\n",
        "            name = known_face_names[best_match_index]\n",
        "\n",
        "        # Draw a box around the face using the Pillow module\n",
        "        cv2.rectangle(unknown_image_to_draw,(left, top), (right, bottom), (0,255,0),3 )\n",
        "        draw.rectangle(((left, top), (right, bottom)), outline=(0, 255, 255))\n",
        "        cv2.putText(unknown_image_to_draw,name,(left,top-20), cv2.FONT_HERSHEY_SIMPLEX,1, (0,0,255), 2,cv2.LINE_AA)\n",
        "        print(name)\n",
        "        # makeAttendanceEntry(name) # You need to implement this function\n",
        "\n",
        "    # display(pil_image)\n",
        "    cv2_imshow(unknown_image_to_draw)"
      ]
    },
    {
      "cell_type": "code",
      "execution_count": null,
      "metadata": {
        "colab": {
          "background_save": true
        },
        "id": "i7JrJxmjoSm0",
        "outputId": "e5e8d7b0-de35-4d49-eff2-baf6aeeb63dc"
      },
      "outputs": [
        {
          "ename": "SyntaxError",
          "evalue": "invalid syntax (<ipython-input-7-fdd320b1c537>, line 1)",
          "output_type": "error",
          "traceback": [
            "\u001b[0;36m  File \u001b[0;32m\"<ipython-input-7-fdd320b1c537>\"\u001b[0;36m, line \u001b[0;32m1\u001b[0m\n\u001b[0;31m    recognize_faces(/content/face_recognition/unknown_er.jpg)\u001b[0m\n\u001b[0m                    ^\u001b[0m\n\u001b[0;31mSyntaxError\u001b[0m\u001b[0;31m:\u001b[0m invalid syntax\n"
          ]
        }
      ],
      "source": []
    }
  ],
  "metadata": {
    "accelerator": "GPU",
    "colab": {
      "provenance": []
    },
    "kernelspec": {
      "display_name": "Python 3",
      "name": "python3"
    }
  },
  "nbformat": 4,
  "nbformat_minor": 0
}
